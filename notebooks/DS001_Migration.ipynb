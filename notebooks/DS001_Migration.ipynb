{
 "cells": [
  {
   "cell_type": "code",
   "execution_count": 1,
   "metadata": {},
   "outputs": [],
   "source": [
    "import os\n",
    "import json\n",
    "from dotenv import load_dotenv\n",
    "import psycopg2\n",
    "import pandas as pd\n",
    "from sqlalchemy import create_engine\n",
    "\n",
    "load_dotenv()\n",
    "\n",
    "DATA_PATH = os.getenv(\"DATA_PATH\")\n",
    "JSON_PATH = os.getenv(\"JSON_PATH\")"
   ]
  },
  {
   "cell_type": "code",
   "execution_count": 2,
   "metadata": {},
   "outputs": [],
   "source": [
    "with open(JSON_PATH, encoding = 'utf-8') as f:\n",
    "    config = json.load(f)\n",
    "    \n",
    "user = config['POSTGRES_USER']\n",
    "password = config['POSTGRES_PASSWORD']\n",
    "host = config['POSTGRES_HOST']\n",
    "port = config['POSTGRES_PORT']\n",
    "database = config['POSTGRES_DB']\n",
    "table =   config['POSTGRES_TABLE']"
   ]
  },
  {
   "cell_type": "code",
   "execution_count": 3,
   "metadata": {},
   "outputs": [
    {
     "name": "stdout",
     "output_type": "stream",
     "text": [
      "Table created successfully\n",
      "PostgreSQL conne ction closed\n"
     ]
    }
   ],
   "source": [
    "try:\n",
    "    connection = psycopg2.connect(\n",
    "        user = user,\n",
    "        password = password,\n",
    "        host = host,\n",
    "        port = port,\n",
    "        database = database\n",
    "    )\n",
    "    cursor = connection.cursor()\n",
    "    \n",
    "    table_query = f\"\"\"\n",
    "        CREATE TABLE IF NOT EXISTS {table}(\n",
    "            \"year\" INTEGER,\n",
    "            \"title\" VARCHAR(255),\n",
    "            \"published_at\" timestamp with time zone,\n",
    "            \"updated_at\" timestamp with time zone,\n",
    "            \"category\" VARCHAR(255),\n",
    "            \"nominee\" VARCHAR(255),\n",
    "            \"artist\" VARCHAR(255),\n",
    "            \"workers\" TEXT,\n",
    "            \"img\" TEXT,\n",
    "            \"winner\" VARCHAR(255)\n",
    "        )\n",
    "    \"\"\"\n",
    "    cursor.execute(table_query)\n",
    "    connection.commit()\n",
    "    print(\"Table created successfully\")\n",
    "    \n",
    "except(Exception, psycopg2.Error) as error:\n",
    "    print(\"Error: \", error)\n",
    "    \n",
    "finally:\n",
    "    if 'connection' in locals():\n",
    "        cursor.close()\n",
    "        connection.close()\n",
    "        print(\"PostgreSQL conne ction closed\")"
   ]
  },
  {
   "cell_type": "code",
   "execution_count": 4,
   "metadata": {},
   "outputs": [
    {
     "data": {
      "text/plain": [
       "810"
      ]
     },
     "execution_count": 4,
     "metadata": {},
     "output_type": "execute_result"
    }
   ],
   "source": [
    "ds_location = DATA_PATH\n",
    "engine = create_engine(f\"postgresql+psycopg2://{user}:{password}@{host}:{port}/{database}\")\n",
    "\n",
    "df = pd.read_csv(ds_location, delimiter = ',')\n",
    "\n",
    "df.to_sql(name = table, con = engine, if_exists = 'append', index = False)"
   ]
  }
 ],
 "metadata": {
  "kernelspec": {
   "display_name": "Python 3",
   "language": "python",
   "name": "python3"
  },
  "language_info": {
   "codemirror_mode": {
    "name": "ipython",
    "version": 3
   },
   "file_extension": ".py",
   "mimetype": "text/x-python",
   "name": "python",
   "nbconvert_exporter": "python",
   "pygments_lexer": "ipython3",
   "version": "3.12.2"
  }
 },
 "nbformat": 4,
 "nbformat_minor": 2
}
